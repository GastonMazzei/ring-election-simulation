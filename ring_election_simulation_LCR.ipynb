{
  "nbformat": 4,
  "nbformat_minor": 0,
  "metadata": {
    "colab": {
      "name": "ring-election-simulation.ipynb",
      "provenance": []
    },
    "kernelspec": {
      "name": "python3",
      "display_name": "Python 3"
    },
    "language_info": {
      "name": "python"
    },
    "accelerator": "GPU"
  },
  "cells": [
    {
      "cell_type": "markdown",
      "metadata": {
        "id": "xhvEKiUPRoPd"
      },
      "source": [
        "# <b>1) Connect to Google Drive so that  we can store results</b>"
      ]
    },
    {
      "cell_type": "code",
      "metadata": {
        "colab": {
          "base_uri": "https://localhost:8080/"
        },
        "id": "GgNNr6WrQ9CE",
        "outputId": "7ce7c4ec-386a-46d7-b7c0-67c0ae18579d"
      },
      "source": [
        "from google.colab import drive\n",
        "drive.mount('/content/drive')"
      ],
      "execution_count": 1,
      "outputs": [
        {
          "output_type": "stream",
          "name": "stdout",
          "text": [
            "Mounted at /content/drive\n"
          ]
        }
      ]
    },
    {
      "cell_type": "markdown",
      "metadata": {
        "id": "uv3mm8GGR3AH"
      },
      "source": [
        "# <b>2) Imports, global variables, functions, and classes</b>"
      ]
    },
    {
      "cell_type": "code",
      "metadata": {
        "id": "xeh75KxcVtGp"
      },
      "source": [
        "# IMPORTS\n",
        "\n",
        "import multiprocessing\n",
        "\n",
        "import numpy as np\n",
        "\n",
        "import sys, os\n",
        "\n",
        "from uuid import uuid4"
      ],
      "execution_count": 1,
      "outputs": []
    },
    {
      "cell_type": "code",
      "metadata": {
        "id": "53RMk4ZWV2WE"
      },
      "source": [
        "# GLOB VAR\n",
        "\n",
        "algorithm = 'LCR'\n",
        "N_processes = 30"
      ],
      "execution_count": 2,
      "outputs": []
    },
    {
      "cell_type": "code",
      "metadata": {
        "id": "pZXItVpQVz_K"
      },
      "source": [
        "# FUNCT\n",
        "\n",
        "def load_messages(Pc, Pn1, Pn2):\n",
        "    # Pc: Processor_current\n",
        "    # Pn1: Processor_neighbor1\n",
        "    # Pn2: Processor_neighbor2\n",
        "    Pc.cim = Pn1.com.copy()\n",
        "    Pc.aim = Pn2.aom.copy()\n",
        "\n",
        "\n",
        "def transition(P):\n",
        "    if algorithm=='LCR':\n",
        "        P.com[0] =None\n",
        "        P.aom[0] = None\n",
        "        if P.cim[0]!=None:\n",
        "            if P.u == P.cim[0]:\n",
        "                P.leader = True\n",
        "                P.com = [None]\n",
        "            elif P.u < P.cim[0]:\n",
        "                P.com = P.cim\n",
        "            else:\n",
        "                P.com = [None]\n",
        "    else:\n",
        "        pass\n",
        "\n",
        "def populate_states_and_channels(p):\n",
        "    # apply a particular criteria for the initial condition\n",
        "    # of both the message channels and processor'states\n",
        "    if algorithm=='LCR':\n",
        "        p.com[0] = p.u\n",
        "    else:\n",
        "        pass\n",
        "\n",
        "\n",
        "def check_leader(ring):        \n",
        "    s = sum([p.leader for p in ring.ring])\n",
        "    if s==1:\n",
        "        sys.exit(0)\n",
        "    elif s>1:\n",
        "        print(f'Algorithm failed: more than one leader was elected')\n",
        "        sys.exit(1)\n",
        "\n",
        "def report_messages(ring):\n",
        "    if algorithm=='LCR':\n",
        "        for i,p in enumerate(ring):\n",
        "            print(f'Processor {i} sends the message: {p.com}')\n",
        "    else:\n",
        "        pass\n",
        "\n",
        "def update_complexity(ring):\n",
        "    DEBUG = [True, False][1]\n",
        "    if DEBUG:\n",
        "        print('messages:')\n",
        "    ring.rounds += 1\n",
        "    for p in ring.ring:\n",
        "        if p.com[0]!=None:\n",
        "            if DEBUG: print(f'pid {p.u} sent {p.com}')\n",
        "            ring.communications += 1\n",
        "        if p.aom[0]!=None:\n",
        "            ring.communications += 1\n",
        "            if DEBUG: print(f'pid {p.u} sent {p.com}')\n",
        "    if DEBUG: print('\\n\\n')"
      ],
      "execution_count": 3,
      "outputs": []
    },
    {
      "cell_type": "code",
      "metadata": {
        "id": "T_OtWfbiRlek"
      },
      "source": [
        "# CLASS\n",
        "\n",
        "class Processor():\n",
        "    def __init__(self):\n",
        "        self.leader = False\n",
        "        self.u = [int(str(uuid4().int)[:16]), np.random.rand()][1]\n",
        "        self.state = []\n",
        "        # clockwise inward message\n",
        "        self.cim = [None]\n",
        "        # clockwise outward message\n",
        "        self.com = [None]\n",
        "        # anti-clockwise inward message\n",
        "        self.aim = [None]\n",
        "        # anti-clockwise outward message\n",
        "        self.aom = [None]\n",
        "\n",
        "\n",
        "class ProcessorRing():\n",
        "    def __init__(self, N, verbose=True, PUi=None):\n",
        "        self.ring = [Processor() for _ in range(N)]\n",
        "        self.communications = 0\n",
        "        self.rounds = 0\n",
        "        self.verbose = verbose\n",
        "        self.PUi = PUi\n",
        "        for p in self.ring:\n",
        "            populate_states_and_channels(p)\n",
        "            self.rounds += 1\n",
        "        self.communications += N\n",
        "        if self.verbose:\n",
        "            report_messages(self.ring)\n",
        "    def transition_function(self):\n",
        "        for i in range(N):\n",
        "            load_messages(self.ring[i], self.ring[(i-1)%N], self.ring[(i+1)%N])\n",
        "        for i in range(N):\n",
        "            transition(self.ring[i])\n",
        "        update_complexity(self)\n",
        "        # Check if a leader was elected\n",
        "        check_leader(self)\n",
        "        # Report the messages in the network\n",
        "        if self.verbose:\n",
        "            report_messages(self.ring)\n",
        "    def complexity_report(self):\n",
        "        if self.PUi==None:\n",
        "          print(f'length of the ring: {len(self.ring)}')\n",
        "          print(f'number of rounds: {self.rounds}')\n",
        "          print(f'number of communications: {self.communications}')\n",
        "        else:\n",
        "          return ['A leader was elected!', \n",
        "                  f'length of the ring: {len(self.ring)}',\n",
        "                  f'number of rounds: {self.rounds}',\n",
        "                  f'number of communications: {self.communications}']"
      ],
      "execution_count": 4,
      "outputs": []
    },
    {
      "cell_type": "markdown",
      "metadata": {
        "id": "P_dcj-CIWFCq"
      },
      "source": [
        "# <b>Produce the Simulation</b>"
      ]
    },
    {
      "cell_type": "code",
      "metadata": {
        "colab": {
          "base_uri": "https://localhost:8080/"
        },
        "id": "OfXfZXkpWILm",
        "outputId": "347840b3-6f44-4d92-967f-a00bb97e6a21"
      },
      "source": [
        "WRITE_PATH = 'drive/MyDrive/ring-election-simulation'\n",
        "!mkdir drive/MyDrive/ring-election-simulation"
      ],
      "execution_count": 5,
      "outputs": [
        {
          "output_type": "stream",
          "name": "stdout",
          "text": [
            "mkdir: cannot create directory ‘drive/MyDrive/ring-election-simulation’: No such file or directory\n"
          ]
        }
      ]
    },
    {
      "cell_type": "code",
      "metadata": {
        "id": "Kmij3xnrWDz7"
      },
      "source": [
        "# Define the main function\n",
        "def main(N, VERBOSITY=False, PUi = None, return_dict = {}):\n",
        "    R = N\n",
        "    ring = ProcessorRing(N, verbose=VERBOSITY, PUi=PUi)\n",
        "    for iteration in range(R):\n",
        "      try:\n",
        "        ring.transition_function()\n",
        "      except:\n",
        "        if PUi!=None:\n",
        "          return_dict[PUi]+= ring.complexity_report()\n"
      ],
      "execution_count": 6,
      "outputs": []
    },
    {
      "cell_type": "code",
      "metadata": {
        "id": "rPh0e5YGY2ot"
      },
      "source": [
        "N_tot = [10000, 12500, 15000, 20000, 25000, 35000, 50000] * 3 + [75000, 100000]  \n",
        "Ltot = len(N_tot)\n",
        "counter = 1\n",
        "\n",
        "for N in N_tot:\n",
        "\n",
        "  # Define a common container\n",
        "  manager = multiprocessing.Manager()\n",
        "  return_dict = manager.dict({_:[] for _ in range(N_processes)})\n",
        "  list_of_processes = []\n",
        "\n",
        "  # Do the work\n",
        "  for PUi in range(N_processes):\n",
        "    ptemp = multiprocessing.Process(target=main, args=(N, False, PUi, return_dict))\n",
        "    ptemp.start()\n",
        "    list_of_processes.append(ptemp)\n",
        "  for p in list_of_processes:\n",
        "    p.join()\n",
        "\n",
        "  # Write temporal results\n",
        "  with open(WRITE_PATH+'/long-simulation-results','r') as f:\n",
        "    previous_results = f.readlines()\n",
        "  with open(WRITE_PATH+'/long-simulation-results','w') as f:\n",
        "    for l in previous_results:\n",
        "      f.write(l)\n",
        "    for k in return_dict.keys():\n",
        "      for l in return_dict[k]:\n",
        "        f.write(l+'\\n')\n",
        "\n",
        "  print(f'INFO: ended lap #{counter} of {Ltot}')\n",
        "  counter += 1"
      ],
      "execution_count": null,
      "outputs": []
    },
    {
      "cell_type": "code",
      "metadata": {
        "id": "nEKWnRqRh1a8"
      },
      "source": [
        ""
      ],
      "execution_count": null,
      "outputs": []
    }
  ]
}